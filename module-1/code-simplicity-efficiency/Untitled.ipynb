{
 "cells": [
  {
   "cell_type": "code",
   "execution_count": 39,
   "metadata": {},
   "outputs": [
    {
     "name": "stdout",
     "output_type": "stream",
     "text": [
      "Welcome to this calculator!\n",
      "It can add and subtract whole numbers from zero to five\n"
     ]
    },
    {
     "name": "stdin",
     "output_type": "stream",
     "text": [
      "Please choose your first number (zero to five):  one\n",
      "What do you want to do? plus or minus:  plus\n",
      "Please choose your second number (zero to five):  six\n"
     ]
    },
    {
     "name": "stdout",
     "output_type": "stream",
     "text": [
      "I am not able to answer this question. Check your input.\n"
     ]
    }
   ],
   "source": [
    "print('Welcome to this calculator!\\n''It can add and subtract whole numbers from zero to five')\n",
    "a = input('Please choose your first number (zero to five): ')\n",
    "b = input('What do you want to do? plus or minus: ')\n",
    "c = input('Please choose your second number (zero to five): ')\n",
    "input_numbers = {'zero': 0, 'one': 1, 'two': 2, 'three': 3, 'four': 4, 'five': 5}\n",
    "output_words = {0: 'zero', 1: 'one', 2: 'two', 3: 'three', 4: 'four', 5: 'five', \n",
    "            -5: 'negative five', -4: 'negative four', -3: 'negative three', -2: 'negative two', -1: 'negative one'}\n",
    "            \n",
    "if a in input_numbers and c in input_numbers:\n",
    "    if b == 'plus':\n",
    "        d = input_numbers[a] + input_numbers[c]\n",
    "        if d in output_words:\n",
    "            d= output_words[d]\n",
    "            print(f'{a} {b} {c} equals {d}')\n",
    "    elif b == 'minus':\n",
    "        d = input_numbers[a] - input_numbers[c]\n",
    "        if d in output_words:\n",
    "            d= output_words[d]\n",
    "            print(f'{a} {b} {c} equals {d}')\n",
    "else:\n",
    "    print(\"I am not able to answer this question. Check your input.\")\n"
   ]
  },
  {
   "cell_type": "code",
   "execution_count": 105,
   "metadata": {},
   "outputs": [
    {
     "name": "stdin",
     "output_type": "stream",
     "text": [
      "Enter minimum string length:  4\n",
      "Enter maximum string length:  5\n",
      "How many random strings to generate?  2\n"
     ]
    },
    {
     "name": "stdout",
     "output_type": "stream",
     "text": [
      "['ynqh', 'fjn1']\n"
     ]
    }
   ],
   "source": [
    "import random\n",
    "import sys\n",
    "import string #so we can change the list assigned to the variable a for a concatenated list with lowercase abc and numbers\n",
    "def RandomStringGenerator(l): #idk why l=12, I just delete and it works. Delete the variable a and it list, so we can directly assign to random.choice\n",
    "    s = ''\n",
    "    while len(s)<l:\n",
    "        s += random.choice(string.ascii_lowercase + string.digits)\n",
    "    return s\n",
    "\n",
    "def BatchStringGenerator(n, a=8, b=12):\n",
    "    r = []\n",
    "    for i in range(n):\n",
    "        if a < b:\n",
    "            c = random.choice(range(a, b))\n",
    "        elif a == b:\n",
    "            c = a\n",
    "        else:\n",
    "            sys.exit('Incorrect min and max string lengths. Try again.')\n",
    "        r.append(RandomStringGenerator(c))\n",
    "    return r\n",
    "\n",
    "a = input('Enter minimum string length: ')\n",
    "b = input('Enter maximum string length: ')\n",
    "n = input('How many random strings to generate? ')\n",
    "\n",
    "print(BatchStringGenerator(int(n), int(a), int(b)))\n"
   ]
  },
  {
   "cell_type": "code",
   "execution_count": 83,
   "metadata": {},
   "outputs": [],
   "source": [
    "import random\n",
    "import sys\n",
    "import string\n",
    "def RandomStringGenerator(l=12, a=string.ascii_lowercase + string.digits):\n",
    "    p = 0\n",
    "    s = ''\n",
    "    while p<l:\n",
    "        import random\n",
    "        s += random.choice(a)\n",
    "        p += 1\n",
    "    return s"
   ]
  },
  {
   "cell_type": "code",
   "execution_count": 80,
   "metadata": {},
   "outputs": [
    {
     "name": "stdin",
     "output_type": "stream",
     "text": [
      "What is the maximal length of the triangle side? Enter a number:  15\n"
     ]
    },
    {
     "name": "stdout",
     "output_type": "stream",
     "text": [
      "The longest side possible is 13\n"
     ]
    }
   ],
   "source": [
    "def my_function(X):\n",
    "    solutions = [[x, y, z] for x in range(5, X) for y in range(4, X) for z in range(3, X) if x*x== y*y+z*z] #list comprehension for all loops\n",
    "    return max([elements for solution in solutions for elements in solution]) #list comprehension to have just one list of numbers\n",
    "X = input(\"What is the maximal length of the triangle side? Enter a number: \")\n",
    "\n",
    "print(\"The longest side possible is \" + str(my_function(int(X))))"
   ]
  }
 ],
 "metadata": {
  "kernelspec": {
   "display_name": "Python [conda env:ironhack_env]",
   "language": "python",
   "name": "conda-env-ironhack_env-py"
  },
  "language_info": {
   "codemirror_mode": {
    "name": "ipython",
    "version": 3
   },
   "file_extension": ".py",
   "mimetype": "text/x-python",
   "name": "python",
   "nbconvert_exporter": "python",
   "pygments_lexer": "ipython3",
   "version": "3.8.5"
  }
 },
 "nbformat": 4,
 "nbformat_minor": 4
}
